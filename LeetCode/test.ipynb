{
 "cells": [
  {
   "cell_type": "code",
   "execution_count": 1,
   "metadata": {},
   "outputs": [
    {
     "data": {
      "text/plain": [
       "'a'"
      ]
     },
     "execution_count": 1,
     "metadata": {},
     "output_type": "execute_result"
    }
   ],
   "source": [
    "s = 'abcdse'\n",
    "s[0]"
   ]
  },
  {
   "cell_type": "code",
   "execution_count": 3,
   "metadata": {},
   "outputs": [
    {
     "data": {
      "text/plain": [
       "'1w'"
      ]
     },
     "execution_count": 3,
     "metadata": {},
     "output_type": "execute_result"
    }
   ],
   "source": [
    "''.join(['1','w','s'][:2])"
   ]
  },
  {
   "cell_type": "code",
   "execution_count": 2,
   "metadata": {},
   "outputs": [
    {
     "name": "stdout",
     "output_type": "stream",
     "text": [
      "0\n"
     ]
    }
   ],
   "source": [
    "p = 1\n",
    "for i in range(p):\n",
    "    print(i)\n",
    "    p=2"
   ]
  },
  {
   "cell_type": "code",
   "execution_count": 1,
   "metadata": {},
   "outputs": [
    {
     "data": {
      "text/plain": [
       "1"
      ]
     },
     "execution_count": 1,
     "metadata": {},
     "output_type": "execute_result"
    }
   ],
   "source": [
    "a = 1\n",
    "def test(x):\n",
    "    x += 1\n",
    "test(a)\n",
    "a"
   ]
  },
  {
   "cell_type": "code",
   "execution_count": 6,
   "metadata": {},
   "outputs": [
    {
     "data": {
      "text/plain": [
       "[1, 2]"
      ]
     },
     "execution_count": 6,
     "metadata": {},
     "output_type": "execute_result"
    }
   ],
   "source": [
    "a = [1]\n",
    "x = a\n",
    "a = a.append(2)\n",
    "x"
   ]
  },
  {
   "cell_type": "code",
   "execution_count": 1,
   "metadata": {},
   "outputs": [
    {
     "data": {
      "text/plain": [
       "[[1, 2]]"
      ]
     },
     "execution_count": 1,
     "metadata": {},
     "output_type": "execute_result"
    }
   ],
   "source": [
    "a = [[1]]\n",
    "x = a[:] # 浅拷贝\n",
    "a[0] = a[0].append(2)\n",
    "x"
   ]
  },
  {
   "cell_type": "code",
   "execution_count": 4,
   "metadata": {},
   "outputs": [
    {
     "data": {
      "text/plain": [
       "3"
      ]
     },
     "execution_count": 4,
     "metadata": {},
     "output_type": "execute_result"
    }
   ],
   "source": [
    "sum([1,2,3][:2])"
   ]
  },
  {
   "cell_type": "code",
   "execution_count": 1,
   "metadata": {},
   "outputs": [
    {
     "name": "stdout",
     "output_type": "stream",
     "text": [
      "22\n"
     ]
    }
   ],
   "source": [
    "a = None\n",
    "if a == None:\n",
    "    print(22)"
   ]
  },
  {
   "cell_type": "code",
   "execution_count": 10,
   "metadata": {},
   "outputs": [
    {
     "data": {
      "text/plain": [
       "[[0, 1, 0, 0, 0],\n",
       " [0, 1, 0, 0, 0],\n",
       " [0, 1, 0, 0, 0],\n",
       " [0, 1, 0, 0, 0],\n",
       " [0, 1, 0, 0, 0]]"
      ]
     },
     "execution_count": 10,
     "metadata": {},
     "output_type": "execute_result"
    }
   ],
   "source": [
    "d = [[0]*5]*5\n",
    "d[0][1] = 1\n",
    "d"
   ]
  },
  {
   "cell_type": "code",
   "execution_count": 3,
   "metadata": {},
   "outputs": [
    {
     "name": "stdout",
     "output_type": "stream",
     "text": [
      "z\n"
     ]
    }
   ],
   "source": [
    "print(chr(122))"
   ]
  },
  {
   "cell_type": "code",
   "execution_count": 3,
   "metadata": {},
   "outputs": [
    {
     "data": {
      "text/plain": [
       "'[1, 2, 3]'"
      ]
     },
     "execution_count": 3,
     "metadata": {},
     "output_type": "execute_result"
    }
   ],
   "source": [
    "str([1,2,3])"
   ]
  },
  {
   "cell_type": "code",
   "execution_count": 6,
   "metadata": {},
   "outputs": [
    {
     "data": {
      "text/plain": [
       "True"
      ]
     },
     "execution_count": 6,
     "metadata": {},
     "output_type": "execute_result"
    }
   ],
   "source": [
    "a = {'A':1}\n",
    "b = {'A':5}\n",
    "\n",
    "tuple(a.items())<=tuple(b.items())"
   ]
  },
  {
   "cell_type": "code",
   "execution_count": 14,
   "metadata": {},
   "outputs": [
    {
     "data": {
      "text/plain": [
       "4"
      ]
     },
     "execution_count": 14,
     "metadata": {},
     "output_type": "execute_result"
    }
   ],
   "source": [
    "a = [1,2,3,4,5,7,8,9,11,14]\n",
    "\n",
    "target = 5\n",
    "\n",
    "l=0\n",
    "r=len(a)-1\n",
    "ans = -1\n",
    "#定义区间[l,r]\n",
    "while l<=r:\n",
    "    mid = (l+r)//2\n",
    "    if a[mid]>target:\n",
    "        l = mid+1\n",
    "    elif a[mid]<target:\n",
    "        r=mid-1\n",
    "    else:\n",
    "        ans = mid\n",
    "        break\n",
    "ans"
   ]
  },
  {
   "cell_type": "code",
   "execution_count": 1,
   "metadata": {},
   "outputs": [
    {
     "data": {
      "text/plain": [
       "[[0, 1], [1, 2], [2, 1]]"
      ]
     },
     "execution_count": 1,
     "metadata": {},
     "output_type": "execute_result"
    }
   ],
   "source": [
    "a = [[1,2],[2,1],[0,1]]\n",
    "sorted(a)"
   ]
  },
  {
   "cell_type": "code",
   "execution_count": 1,
   "metadata": {},
   "outputs": [
    {
     "data": {
      "text/plain": [
       "4"
      ]
     },
     "execution_count": 1,
     "metadata": {},
     "output_type": "execute_result"
    }
   ],
   "source": [
    "a=set([1,1,2,3,3,4])\n",
    "a.pop()\n",
    "a.pop()\n",
    "a.pop()\n",
    "a.pop()"
   ]
  },
  {
   "cell_type": "code",
   "execution_count": 2,
   "metadata": {},
   "outputs": [
    {
     "data": {
      "text/plain": [
       "(tensor([[ 0.7859, -1.0265, -1.4303],\n",
       "         [-0.0393, -0.8960,  1.4704]]),\n",
       " tensor([[ 0.4478, -0.2138,  1.0124],\n",
       "         [-1.2564,  0.7231, -1.4886]]))"
      ]
     },
     "execution_count": 2,
     "metadata": {},
     "output_type": "execute_result"
    }
   ],
   "source": [
    "import torch\n",
    "\n",
    "a = torch.randn(2,3)\n",
    "b = torch.randn(2,3)\n",
    "a, b"
   ]
  },
  {
   "cell_type": "code",
   "execution_count": 6,
   "metadata": {},
   "outputs": [
    {
     "data": {
      "text/plain": [
       "tensor([[ 0.3520,  0.2195, -1.4481],\n",
       "        [ 0.0493, -0.6479, -2.1889]])"
      ]
     },
     "execution_count": 6,
     "metadata": {},
     "output_type": "execute_result"
    }
   ],
   "source": [
    "a*b"
   ]
  },
  {
   "cell_type": "code",
   "execution_count": 8,
   "metadata": {},
   "outputs": [
    {
     "data": {
      "text/plain": [
       "5"
      ]
     },
     "execution_count": 8,
     "metadata": {},
     "output_type": "execute_result"
    }
   ],
   "source": [
    "a = [-10, -10, -5, 0, 1, 5, 8, 10]\n",
    "\n",
    "left = 0\n",
    "right = len(a)-1\n",
    "\n",
    "num = 0\n",
    "while left<=right:\n",
    "    if a[left]+a[right]==0:\n",
    "        num += 1\n",
    "        left += 1\n",
    "        right -= 1\n",
    "\n",
    "        while left>0 and a[left]==a[left-1]:\n",
    "            left += 1\n",
    "        while right<len(a)-1 and a[right]==a[right+1]:     \n",
    "            right -= 1\n",
    "    elif a[left]+a[right]<0:\n",
    "        num +=1\n",
    "        left+=1\n",
    "\n",
    "        while left>0 and a[left]==a[left-1]:\n",
    "            left += 1\n",
    "    else:\n",
    "        num += 1\n",
    "        right-=1\n",
    "        while right<len(a)-1 and a[right]==a[right+1]:     \n",
    "            right -= 1\n",
    "\n",
    "num\n"
   ]
  },
  {
   "cell_type": "code",
   "execution_count": 10,
   "metadata": {},
   "outputs": [
    {
     "data": {
      "text/plain": [
       "(6, 5)"
      ]
     },
     "execution_count": 10,
     "metadata": {},
     "output_type": "execute_result"
    }
   ],
   "source": [
    "nums = [1,2,3,5,7,9]\n",
    "\n",
    "left = 0\n",
    "right = len(nums)-1\n",
    "target = 10\n",
    "\n",
    "while left<=right:\n",
    "    mid = (left+right)//2\n",
    "\n",
    "    if nums[mid]<target:\n",
    "        left = mid + 1\n",
    "    else:\n",
    "        right = mid -1\n",
    "\n",
    "# left-第一个大于等于target的   right-第一个小于target的\n",
    "left, right"
   ]
  },
  {
   "cell_type": "code",
   "execution_count": 11,
   "metadata": {},
   "outputs": [
    {
     "data": {
      "text/plain": [
       "(6, 5)"
      ]
     },
     "execution_count": 11,
     "metadata": {},
     "output_type": "execute_result"
    }
   ],
   "source": [
    "nums = [1,2,3,5,7,9]\n",
    "\n",
    "left = 0\n",
    "right = len(nums)-1\n",
    "target = 10\n",
    "\n",
    "while left<=right:\n",
    "    mid = (left+right)//2\n",
    "\n",
    "    if nums[mid]<=target:\n",
    "        left = mid + 1\n",
    "    else:\n",
    "        right = mid -1\n",
    "\n",
    "# left-第一个大于target的   right-第一个小于等于target的\n",
    "left, right"
   ]
  },
  {
   "cell_type": "code",
   "execution_count": 7,
   "metadata": {},
   "outputs": [
    {
     "name": "stdout",
     "output_type": "stream",
     "text": [
      "[[1, 2, 3], [1, 3, 2], [2, 1, 3], [2, 3, 1], [3, 2, 1], [3, 1, 2]]\n"
     ]
    }
   ],
   "source": [
    "class Solution(object):\n",
    "    def nextPermutation(self, nums):\n",
    "        res = []\n",
    "        path = []\n",
    "\n",
    "        def dfs(idx):\n",
    "            if len(path) == len(nums):\n",
    "                res.append(path[:])\n",
    "            \n",
    "            for i in range(idx, len(nums)):\n",
    "                path.append(nums[i])\n",
    "                nums[i], nums[idx] = nums[idx], nums[i]\n",
    "                dfs(idx+1)\n",
    "                path.pop()\n",
    "                nums[i], nums[idx] = nums[idx], nums[i]\n",
    "        \n",
    "        dfs(0)\n",
    "        return res\n",
    "print(Solution().nextPermutation([1,2,3]))"
   ]
  },
  {
   "cell_type": "code",
   "execution_count": null,
   "metadata": {},
   "outputs": [],
   "source": []
  },
  {
   "cell_type": "code",
   "execution_count": 11,
   "metadata": {},
   "outputs": [
    {
     "data": {
      "text/plain": [
       "True"
      ]
     },
     "execution_count": 11,
     "metadata": {},
     "output_type": "execute_result"
    }
   ],
   "source": [
    "a = [0,1,3]\n",
    "\n",
    "b = [0,1,0]\n",
    "b[-1] = 3\n",
    "\n",
    "a==b"
   ]
  },
  {
   "cell_type": "code",
   "execution_count": 10,
   "metadata": {},
   "outputs": [
    {
     "data": {
      "text/plain": [
       "[[0, 1], [2, 3]]"
      ]
     },
     "execution_count": 10,
     "metadata": {},
     "output_type": "execute_result"
    }
   ],
   "source": [
    "m = [[0,1],[2,3]]\n",
    "m[:][1] = [0,0]\n",
    "m"
   ]
  },
  {
   "cell_type": "code",
   "execution_count": null,
   "metadata": {},
   "outputs": [
    {
     "data": {
      "text/plain": [
       "<__main__.ListNode at 0x2d610025640>"
      ]
     },
     "execution_count": 4,
     "metadata": {},
     "output_type": "execute_result"
    }
   ],
   "source": [
    "# Definition for singly-linked list.\n",
    "class ListNode:\n",
    "    def __init__(self, val=0, next=None):\n",
    "        self.val = val\n",
    "        self.next = next\n",
    "class Solution:\n",
    "    def sortList(self, head):\n",
    "        ### 归并排序\n",
    "        def sort(left):\n",
    "            if not left or not left.next:\n",
    "                return left\n",
    "\n",
    "            # 从中间拆分\n",
    "            fast = left\n",
    "            slow = left\n",
    "            while fast and fast.next:\n",
    "                pre = slow\n",
    "                slow = slow.next\n",
    "                fast = fast.next.next\n",
    "            mid = pre\n",
    "            temp = mid.next\n",
    "            mid.next = None\n",
    "\n",
    "            l = sort(left)\n",
    "            r = sort(temp)\n",
    "            \n",
    "            # 合并\n",
    "            bin_head = ListNode()\n",
    "            p = bin_head\n",
    "            p1 = l\n",
    "            p2 = r\n",
    "\n",
    "            while p1 or p2:\n",
    "                if p1 and p2:\n",
    "                    if p1.val <= p2.val:\n",
    "                        p.next = p1\n",
    "                        p1 = p1.next\n",
    "                    else:\n",
    "                        p.next = p2\n",
    "                        p2 = p2.next\n",
    "                elif p1:\n",
    "                    p.next = p1\n",
    "                    p1 = p1.next\n",
    "                else:\n",
    "                    p.next = p2\n",
    "                    p2 = p2.next\n",
    "\n",
    "                p = p.next\n",
    "            \n",
    "            return bin_head.next\n",
    "\n",
    "        return sort(head)\n",
    "\n",
    "\n",
    "\n",
    "a = ListNode(4)\n",
    "b = ListNode(2)\n",
    "c = ListNode(1)\n",
    "d = ListNode(3)\n",
    "\n",
    "a.next = b\n",
    "b.next = c\n",
    "c.next = d\n",
    "\n",
    "Solution().sortList(a)"
   ]
  },
  {
   "cell_type": "code",
   "execution_count": 4,
   "metadata": {},
   "outputs": [
    {
     "data": {
      "text/plain": [
       "0"
      ]
     },
     "execution_count": 4,
     "metadata": {},
     "output_type": "execute_result"
    }
   ],
   "source": [
    "int(6/-132)"
   ]
  },
  {
   "cell_type": "code",
   "execution_count": null,
   "metadata": {},
   "outputs": [],
   "source": []
  }
 ],
 "metadata": {
  "kernelspec": {
   "display_name": "base",
   "language": "python",
   "name": "python3"
  },
  "language_info": {
   "codemirror_mode": {
    "name": "ipython",
    "version": 3
   },
   "file_extension": ".py",
   "mimetype": "text/x-python",
   "name": "python",
   "nbconvert_exporter": "python",
   "pygments_lexer": "ipython3",
   "version": "3.9.7"
  }
 },
 "nbformat": 4,
 "nbformat_minor": 2
}
